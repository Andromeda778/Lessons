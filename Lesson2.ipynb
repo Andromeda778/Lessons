{
  "cells": [
    {
      "cell_type": "code",
      "execution_count": 2,
      "id": "47331023",
      "metadata": {
        "id": "47331023"
      },
      "outputs": [],
      "source": [
        "import numpy as np\n",
        "from sklearn.decomposition import PCA\n",
        "from sklearn.preprocessing import StandardScaler\n",
        "from sklearn.datasets import make_blobs"
      ]
    },
    {
      "cell_type": "markdown",
      "id": "8b89a16b",
      "metadata": {
        "id": "8b89a16b"
      },
      "source": [
        "## Задание 1: Реализовать скалярное произведение двух векторов\n",
        "Пользоваться стандартными функциями для прямого вычисления нельзя.\n",
        "Менять тип переменных a и b нельзя"
      ]
    },
    {
      "cell_type": "code",
      "execution_count": 3,
      "id": "08b906fb",
      "metadata": {
        "id": "08b906fb"
      },
      "outputs": [],
      "source": [
        "a = list(np.random.rand(15))\n",
        "b = list(np.random.rand(15))"
      ]
    },
    {
      "cell_type": "code",
      "execution_count": 4,
      "id": "cd712f8f",
      "metadata": {
        "id": "cd712f8f"
      },
      "outputs": [],
      "source": [
        "def scalar_product(a, b):\n",
        "    result = 0\n",
        "    for i in range(len(a)):\n",
        "        result += a[i]*b[i]\n",
        "    return result"
      ]
    },
    {
      "cell_type": "code",
      "execution_count": 5,
      "id": "1d382392",
      "metadata": {
        "id": "1d382392"
      },
      "outputs": [
        {
          "name": "stdout",
          "output_type": "stream",
          "text": [
            "2.994777892154492\n",
            "2.994777892154492\n"
          ]
        }
      ],
      "source": [
        "# Сравнение с функцией dot из numpy.\n",
        "print(scalar_product(a, b))\n",
        "print(np.dot(a,b))\n"
      ]
    },
    {
      "cell_type": "markdown",
      "id": "0668ea07",
      "metadata": {
        "id": "0668ea07"
      },
      "source": [
        "# Задание 2: Реализовать матричное произведение\n",
        "Пользоваться стандартными функциями для прямого вычисления нельзя.\n",
        "Можете воспользоваться своей релизацией функции scalar_product.\n",
        "Менять тип переменных A и B нельзя"
      ]
    },
    {
      "cell_type": "code",
      "execution_count": 6,
      "id": "04fc8c36",
      "metadata": {
        "id": "04fc8c36"
      },
      "outputs": [],
      "source": [
        "A = list(np.random.rand(5, 12))\n",
        "B = list(np.random.rand(12, 7))"
      ]
    },
    {
      "cell_type": "code",
      "execution_count": 7,
      "id": "05f5dafe",
      "metadata": {
        "id": "05f5dafe"
      },
      "outputs": [
        {
          "name": "stdout",
          "output_type": "stream",
          "text": [
            "[array([3.22518733, 3.07531451, 1.66177003, 1.91922347, 3.0159208 ,\n",
            "       2.70529206, 2.88937917]), array([2.59385055, 1.96547847, 1.02082029, 1.28283726, 1.70445133,\n",
            "       2.24343247, 1.77258964]), array([4.20496226, 2.98330102, 2.07821707, 2.31139164, 3.17475311,\n",
            "       3.7288389 , 3.28258558]), array([4.50232737, 2.8446842 , 2.0331876 , 2.49272866, 3.06954875,\n",
            "       3.61047788, 3.03058964]), array([3.21133454, 2.99260759, 1.42593392, 2.18538063, 2.92921023,\n",
            "       2.24984516, 2.61871923])]\n"
          ]
        }
      ],
      "source": [
        "def matrix_product(A, B):\n",
        "    matrix_prod = list(np.zeros((len(A), len(B[0]))))\n",
        "\n",
        "    for i in range(len(A)):\n",
        "        for j in range(len(B[0])):\n",
        "            for k in range(len(B)):\n",
        "                matrix_prod[i][j] += A[i][k] * B[k][j]\n",
        "\n",
        "    return matrix_prod\n",
        "print(matrix_product(A,B))"
      ]
    },
    {
      "cell_type": "code",
      "execution_count": 8,
      "id": "17e112e1",
      "metadata": {
        "id": "17e112e1"
      },
      "outputs": [
        {
          "name": "stdout",
          "output_type": "stream",
          "text": [
            "[[ 0.00000000e+00 -4.44089210e-16  0.00000000e+00  0.00000000e+00\n",
            "  -4.44089210e-16  0.00000000e+00 -4.44089210e-16]\n",
            " [ 0.00000000e+00  0.00000000e+00  0.00000000e+00  0.00000000e+00\n",
            "   0.00000000e+00 -4.44089210e-16  0.00000000e+00]\n",
            " [ 0.00000000e+00  0.00000000e+00  0.00000000e+00  0.00000000e+00\n",
            "   0.00000000e+00  4.44089210e-16  0.00000000e+00]\n",
            " [ 0.00000000e+00  4.44089210e-16  0.00000000e+00  0.00000000e+00\n",
            "   0.00000000e+00  0.00000000e+00  0.00000000e+00]\n",
            " [ 4.44089210e-16  0.00000000e+00  2.22044605e-16  0.00000000e+00\n",
            "  -4.44089210e-16  4.44089210e-16  0.00000000e+00]]\n"
          ]
        }
      ],
      "source": [
        "# Сравнение с функцией dot из numpy.\n",
        "print(np.array(matrix_product(A, B)) - np.dot(A, B))\n"
      ]
    },
    {
      "cell_type": "markdown",
      "id": "6890f996",
      "metadata": {
        "id": "6890f996"
      },
      "source": [
        "## Задание 3: собственная реализация PCA\n",
        "пользоваться можно только функциями из numpy"
      ]
    },
    {
      "cell_type": "code",
      "execution_count": 9,
      "id": "e6ebcc28",
      "metadata": {},
      "outputs": [
        {
          "data": {
            "text/plain": [
              "array([[1, 3, 2],\n",
              "       [5, 9, 7]])"
            ]
          },
          "execution_count": 9,
          "metadata": {},
          "output_type": "execute_result"
        }
      ],
      "source": [
        "a = np.array([[1,3,2], [5,9,7]])\n",
        "a"
      ]
    },
    {
      "cell_type": "code",
      "execution_count": 10,
      "id": "29b24ebe",
      "metadata": {},
      "outputs": [
        {
          "data": {
            "text/plain": [
              "array([1, 2, 3, 4, 7])"
            ]
          },
          "execution_count": 10,
          "metadata": {},
          "output_type": "execute_result"
        }
      ],
      "source": [
        "v = np.array([1,7,3,2,4])\n",
        "sort_ind = np.argsort(v)\n",
        "v[sort_ind]"
      ]
    },
    {
      "cell_type": "code",
      "execution_count": 11,
      "id": "2355342c",
      "metadata": {
        "id": "2355342c"
      },
      "outputs": [
        {
          "name": "stdout",
          "output_type": "stream",
          "text": [
            "(3, 3)\n",
            "[1.25356499 1.0119259  0.76481215]\n",
            "Первые 5 элементов после применения PCA:\n",
            " [[ 0.14906228 -0.23866011]\n",
            " [-2.30503449 -0.21426715]\n",
            " [-0.48126702 -0.64756423]\n",
            " [-1.39731755  2.06441233]\n",
            " [ 2.26940507 -0.9035159 ]]\n"
          ]
        }
      ],
      "source": [
        "import numpy as np\n",
        "\n",
        "class SimplePCA:\n",
        "    def __init__(self, n_components):\n",
        "        self.n_components = n_components\n",
        "\n",
        "    def fit(self, X):\n",
        "        # Нормализация\n",
        "        self.X_mean = X.mean(axis=0)\n",
        "        self.X_std = X.std(axis=0)\n",
        "        X_normalized = (X - X.mean(axis=0)) / X.std(axis=0)\n",
        "        \n",
        "\n",
        "        # Вычисление ковариационной матрицы\n",
        "        cov_x = np.cov(X_normalized.T)\n",
        "        print(cov_x.shape)\n",
        "\n",
        "        # Вычисление собственных значений и собственных векторов\n",
        "        eigenvalues, eigenvectors = np.linalg.eig(cov_x)\n",
        "\n",
        "        # Сортировка собственных векторов по убыванию собственных значений\n",
        "        sorted_vector = eigenvectors[:, np.argsort(eigenvalues)[::-1]]\n",
        "        print(eigenvalues[ np.argsort(eigenvalues, axis=-1)[::-1]])\n",
        "\n",
        "        # Выбираем первые n_components собственных векторов\n",
        "        self.sorted_vectors = sorted_vector[:, :self.n_components]\n",
        "\n",
        "\n",
        "    def transform(self, X):\n",
        "        # Ваш код\n",
        "        X_normalized = (X - self.X_mean) / self.X_std\n",
        "        return np.dot(X_normalized, self.sorted_vectors)\n",
        "\n",
        "X, _ = make_blobs(n_samples=100, n_features=3, centers=1, random_state=0)\n",
        "\n",
        "pca = SimplePCA(n_components=2)\n",
        "pca.fit(X)\n",
        "X_pca = pca.transform(X)\n",
        "\n",
        "print(\"Первые 5 элементов после применения PCA:\\n\", X_pca[:5])"
      ]
    },
    {
      "cell_type": "code",
      "execution_count": 12,
      "id": "e375f19b",
      "metadata": {
        "id": "e375f19b"
      },
      "outputs": [
        {
          "name": "stdout",
          "output_type": "stream",
          "text": [
            "Первые 5 элементов после применения PCA из sklearn:\n",
            " [[ 0.14906228  0.23866011]\n",
            " [-2.30503449  0.21426715]\n",
            " [-0.48126702  0.64756423]\n",
            " [-1.39731755 -2.06441233]\n",
            " [ 2.26940507  0.9035159 ]]\n"
          ]
        }
      ],
      "source": [
        "from sklearn.decomposition import PCA\n",
        "from sklearn.preprocessing import StandardScaler\n",
        "X, _ = make_blobs(n_samples=100, n_features=3, centers=1, random_state=0)\n",
        "scaler = StandardScaler()\n",
        "X_ = scaler.fit_transform(X)\n",
        "\n",
        "pca_sklearn = PCA(n_components=2)\n",
        "X_pca_sklearn = pca_sklearn.fit_transform(scaler.fit_transform(X))\n",
        "\n",
        "print(\"Первые 5 элементов после применения PCA из sklearn:\\n\", X_pca_sklearn[:5])\n"
      ]
    },
    {
      "cell_type": "code",
      "execution_count": null,
      "id": "fa2044ee",
      "metadata": {},
      "outputs": [],
      "source": []
    }
  ],
  "metadata": {
    "colab": {
      "provenance": []
    },
    "kernelspec": {
      "display_name": "Python 3 (ipykernel)",
      "language": "python",
      "name": "python3"
    },
    "language_info": {
      "codemirror_mode": {
        "name": "ipython",
        "version": 3
      },
      "file_extension": ".py",
      "mimetype": "text/x-python",
      "name": "python",
      "nbconvert_exporter": "python",
      "pygments_lexer": "ipython3",
      "version": "3.12.2"
    }
  },
  "nbformat": 4,
  "nbformat_minor": 5
}
